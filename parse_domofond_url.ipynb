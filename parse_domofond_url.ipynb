{
 "cells": [
  {
   "cell_type": "code",
   "execution_count": null,
   "metadata": {},
   "outputs": [],
   "source": [
    "from urllib.request import urlopen\n",
    "from bs4 import BeautifulSoup\n",
    "import pandas as pd\n",
    "import requests"
   ]
  },
  {
   "cell_type": "code",
   "execution_count": null,
   "metadata": {},
   "outputs": [],
   "source": [
    "page = 1\n",
    "all_str = []\n",
    "for i in range(327):\n",
    "    url = 'https://www.domofond.ru/prodazha-uchastkizemli-permskiy_kray-r42?PrivateListingType=PrivateOwner&SortOrder=Newest&Page=' + str(page)\n",
    "    r = requests.get(url).text\n",
    "    soup1 = BeautifulSoup(r, \"html.parser\")\n",
    "    new = soup1.findAll('a', class_=\"long-item-card__item___ubItG\")\n",
    "    for links in new:\n",
    "        all_str.append(\"https://www.domofond.ru\" + links.get('href'))\n",
    "    page += 1\n",
    "all_str = pd.DataFrame(all_str)\n",
    "all_str.columns = ['Ссылка на объявление от собственника - Участки']\n",
    "all_str.head()"
   ]
  },
  {
   "cell_type": "code",
   "execution_count": null,
   "metadata": {},
   "outputs": [],
   "source": [
    "all_str.to_excel(\"parse_domofond_lands_perm.xlsx\", index=True)"
   ]
  }
 ],
 "metadata": {
  "kernelspec": {
   "display_name": "Python 3",
   "language": "python",
   "name": "python3"
  },
  "language_info": {
   "codemirror_mode": {
    "name": "ipython",
    "version": 3
   },
   "file_extension": ".py",
   "mimetype": "text/x-python",
   "name": "python",
   "nbconvert_exporter": "python",
   "pygments_lexer": "ipython3",
   "version": "3.7.6"
  }
 },
 "nbformat": 4,
 "nbformat_minor": 4
}
