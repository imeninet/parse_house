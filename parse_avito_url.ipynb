{
 "cells": [
  {
   "cell_type": "code",
   "execution_count": 1,
   "metadata": {},
   "outputs": [],
   "source": [
    "from urllib.request import urlopen\n",
    "from bs4 import BeautifulSoup\n",
    "import pandas as pd\n",
    "import requests"
   ]
  },
  {
   "cell_type": "code",
   "execution_count": 4,
   "metadata": {},
   "outputs": [
    {
     "data": {
      "text/html": [
       "<div>\n",
       "<style scoped>\n",
       "    .dataframe tbody tr th:only-of-type {\n",
       "        vertical-align: middle;\n",
       "    }\n",
       "\n",
       "    .dataframe tbody tr th {\n",
       "        vertical-align: top;\n",
       "    }\n",
       "\n",
       "    .dataframe thead th {\n",
       "        text-align: right;\n",
       "    }\n",
       "</style>\n",
       "<table border=\"1\" class=\"dataframe\">\n",
       "  <thead>\n",
       "    <tr style=\"text-align: right;\">\n",
       "      <th></th>\n",
       "      <th>Ссылка на объявление от собственника - Дома, дачи, коттеджи</th>\n",
       "    </tr>\n",
       "  </thead>\n",
       "  <tbody>\n",
       "    <tr>\n",
       "      <th>0</th>\n",
       "      <td>https://www.avito.ru/kosterevo/zemelnye_uchast...</td>\n",
       "    </tr>\n",
       "    <tr>\n",
       "      <th>1</th>\n",
       "      <td>https://www.avito.ru/kosterevo/zemelnye_uchast...</td>\n",
       "    </tr>\n",
       "    <tr>\n",
       "      <th>2</th>\n",
       "      <td>https://www.avito.ru/kosterevo/zemelnye_uchast...</td>\n",
       "    </tr>\n",
       "    <tr>\n",
       "      <th>3</th>\n",
       "      <td>https://www.avito.ru/kosterevo/zemelnye_uchast...</td>\n",
       "    </tr>\n",
       "    <tr>\n",
       "      <th>4</th>\n",
       "      <td>https://www.avito.ru/kosterevo/zemelnye_uchast...</td>\n",
       "    </tr>\n",
       "  </tbody>\n",
       "</table>\n",
       "</div>"
      ],
      "text/plain": [
       "  Ссылка на объявление от собственника - Дома, дачи, коттеджи\n",
       "0  https://www.avito.ru/kosterevo/zemelnye_uchast...         \n",
       "1  https://www.avito.ru/kosterevo/zemelnye_uchast...         \n",
       "2  https://www.avito.ru/kosterevo/zemelnye_uchast...         \n",
       "3  https://www.avito.ru/kosterevo/zemelnye_uchast...         \n",
       "4  https://www.avito.ru/kosterevo/zemelnye_uchast...         "
      ]
     },
     "execution_count": 4,
     "metadata": {},
     "output_type": "execute_result"
    }
   ],
   "source": [
    "# ячейка для настройки кода\n",
    "page = 1\n",
    "all_str = []\n",
    "url = 'https://www.avito.ru/vladimirskaya_oblast/doma_dachi_kottedzhi?cd=1&user=1&p=' + str(page)\n",
    "r = requests.get(url).text\n",
    "soup1 = BeautifulSoup(r, \"html.parser\")\n",
    "new = soup1.findAll('a', class_=\"snippet-link js-snippet-link\")\n",
    "for link in new:\n",
    "    all_str.append(\"https://www.avito.ru\" + links.get('href'))\n",
    "# print(all_str)\n",
    "#     link.append(z)\n",
    "all_str = pd.DataFrame(all_str)\n",
    "all_str.columns = ['Ссылка на объявление от собственника - Дома, дачи, коттеджи']\n",
    "# print(all_str)\n",
    "# all_str.to_excel(\"parse_house.xlsx\", index=True)\n",
    "all_str.head()"
   ]
  },
  {
   "cell_type": "code",
   "execution_count": 2,
   "metadata": {},
   "outputs": [
    {
     "data": {
      "text/html": [
       "<div>\n",
       "<style scoped>\n",
       "    .dataframe tbody tr th:only-of-type {\n",
       "        vertical-align: middle;\n",
       "    }\n",
       "\n",
       "    .dataframe tbody tr th {\n",
       "        vertical-align: top;\n",
       "    }\n",
       "\n",
       "    .dataframe thead th {\n",
       "        text-align: right;\n",
       "    }\n",
       "</style>\n",
       "<table border=\"1\" class=\"dataframe\">\n",
       "  <thead>\n",
       "    <tr style=\"text-align: right;\">\n",
       "      <th></th>\n",
       "      <th>Ссылка на объявление от собственника - Дома, дачи, коттеджи</th>\n",
       "    </tr>\n",
       "  </thead>\n",
       "  <tbody>\n",
       "    <tr>\n",
       "      <th>0</th>\n",
       "      <td>https://www.avito.ru/kirzhach/doma_dachi_kotte...</td>\n",
       "    </tr>\n",
       "    <tr>\n",
       "      <th>1</th>\n",
       "      <td>https://www.avito.ru/kirzhach/doma_dachi_kotte...</td>\n",
       "    </tr>\n",
       "    <tr>\n",
       "      <th>2</th>\n",
       "      <td>https://www.avito.ru/murom/doma_dachi_kottedzh...</td>\n",
       "    </tr>\n",
       "    <tr>\n",
       "      <th>3</th>\n",
       "      <td>https://www.avito.ru/kolchugino/doma_dachi_kot...</td>\n",
       "    </tr>\n",
       "    <tr>\n",
       "      <th>4</th>\n",
       "      <td>https://www.avito.ru/lakinsk/doma_dachi_kotted...</td>\n",
       "    </tr>\n",
       "  </tbody>\n",
       "</table>\n",
       "</div>"
      ],
      "text/plain": [
       "  Ссылка на объявление от собственника - Дома, дачи, коттеджи\n",
       "0  https://www.avito.ru/kirzhach/doma_dachi_kotte...         \n",
       "1  https://www.avito.ru/kirzhach/doma_dachi_kotte...         \n",
       "2  https://www.avito.ru/murom/doma_dachi_kottedzh...         \n",
       "3  https://www.avito.ru/kolchugino/doma_dachi_kot...         \n",
       "4  https://www.avito.ru/lakinsk/doma_dachi_kotted...         "
      ]
     },
     "execution_count": 2,
     "metadata": {},
     "output_type": "execute_result"
    }
   ],
   "source": [
    "page = 1\n",
    "all_str = []\n",
    "for i in range(3):\n",
    "    url = 'https://www.avito.ru/vladimirskaya_oblast/doma_dachi_kottedzhi?cd=1&user=1&p=' + str(page)\n",
    "    r = requests.get(url).text\n",
    "    soup1 = BeautifulSoup(r, \"html.parser\")\n",
    "    new = soup1.findAll('a', class_=\"snippet-link js-snippet-link\")\n",
    "    for links in new:\n",
    "        all_str.append(\"https://www.avito.ru\" + links.get('href'))\n",
    "    page += 1\n",
    "all_str = pd.DataFrame(all_str)\n",
    "all_str.columns = ['Ссылка на объявление от собственника - Дома, дачи, коттеджи']\n",
    "all_str.head()\n",
    "# all_str.to_excel(\"parse_house.xlsx\", index=True)"
   ]
  },
  {
   "cell_type": "code",
   "execution_count": 25,
   "metadata": {},
   "outputs": [],
   "source": [
    "all_str.to_excel(\"parse_house_avito_vo.xlsx\", index=True)"
   ]
  },
  {
   "cell_type": "code",
   "execution_count": 3,
   "metadata": {},
   "outputs": [
    {
     "data": {
      "text/html": [
       "<div>\n",
       "<style scoped>\n",
       "    .dataframe tbody tr th:only-of-type {\n",
       "        vertical-align: middle;\n",
       "    }\n",
       "\n",
       "    .dataframe tbody tr th {\n",
       "        vertical-align: top;\n",
       "    }\n",
       "\n",
       "    .dataframe thead th {\n",
       "        text-align: right;\n",
       "    }\n",
       "</style>\n",
       "<table border=\"1\" class=\"dataframe\">\n",
       "  <thead>\n",
       "    <tr style=\"text-align: right;\">\n",
       "      <th></th>\n",
       "      <th>Ссылка на объявление от собственника - Земельные участки</th>\n",
       "    </tr>\n",
       "  </thead>\n",
       "  <tbody>\n",
       "    <tr>\n",
       "      <th>0</th>\n",
       "      <td>https://www.avito.ru/stavrovo/zemelnye_uchastk...</td>\n",
       "    </tr>\n",
       "    <tr>\n",
       "      <th>1</th>\n",
       "      <td>https://www.avito.ru/vladimir/zemelnye_uchastk...</td>\n",
       "    </tr>\n",
       "    <tr>\n",
       "      <th>2</th>\n",
       "      <td>https://www.avito.ru/kirzhach/zemelnye_uchastk...</td>\n",
       "    </tr>\n",
       "    <tr>\n",
       "      <th>3</th>\n",
       "      <td>https://www.avito.ru/kovrov/zemelnye_uchastki/...</td>\n",
       "    </tr>\n",
       "    <tr>\n",
       "      <th>4</th>\n",
       "      <td>https://www.avito.ru/vladimir/zemelnye_uchastk...</td>\n",
       "    </tr>\n",
       "  </tbody>\n",
       "</table>\n",
       "</div>"
      ],
      "text/plain": [
       "  Ссылка на объявление от собственника - Земельные участки\n",
       "0  https://www.avito.ru/stavrovo/zemelnye_uchastk...      \n",
       "1  https://www.avito.ru/vladimir/zemelnye_uchastk...      \n",
       "2  https://www.avito.ru/kirzhach/zemelnye_uchastk...      \n",
       "3  https://www.avito.ru/kovrov/zemelnye_uchastki/...      \n",
       "4  https://www.avito.ru/vladimir/zemelnye_uchastk...      "
      ]
     },
     "execution_count": 3,
     "metadata": {},
     "output_type": "execute_result"
    }
   ],
   "source": [
    "page = 1\n",
    "all_str = []\n",
    "for i in range(3):\n",
    "    url = 'https://www.avito.ru/vladimirskaya_oblast/zemelnye_uchastki?cd=1&p=' + str(page)\n",
    "    r = requests.get(url).text\n",
    "    soup1 = BeautifulSoup(r, \"html.parser\")\n",
    "    new = soup1.findAll('a', class_=\"snippet-link js-snippet-link\")\n",
    "    for links in new:\n",
    "        all_str.append(\"https://www.avito.ru\" + links.get('href'))\n",
    "    page += 1\n",
    "all_str = pd.DataFrame(all_str)\n",
    "all_str.columns = ['Ссылка на объявление от собственника - Земельные участки']\n",
    "all_str.head()\n",
    "# all_str.to_excel(\"parse_house.xlsx\", index=True)"
   ]
  },
  {
   "cell_type": "code",
   "execution_count": null,
   "metadata": {},
   "outputs": [],
   "source": [
    "all_str.to_excel(\"parse_avito_vo_lands.xlsx\", index=True)"
   ]
  },
  {
   "cell_type": "code",
   "execution_count": null,
   "metadata": {},
   "outputs": [],
   "source": [
    "# ячейка для скачивания файла с колаба\n",
    "from google.colab import files\n",
    "# files.download('parse_avito_udm_flats.xlsx')"
   ]
  }
 ],
 "metadata": {
  "kernelspec": {
   "display_name": "Python 3",
   "language": "python",
   "name": "python3"
  },
  "language_info": {
   "codemirror_mode": {
    "name": "ipython",
    "version": 3
   },
   "file_extension": ".py",
   "mimetype": "text/x-python",
   "name": "python",
   "nbconvert_exporter": "python",
   "pygments_lexer": "ipython3",
   "version": "3.7.6"
  }
 },
 "nbformat": 4,
 "nbformat_minor": 4
}
