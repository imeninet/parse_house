{
 "cells": [
  {
   "cell_type": "code",
   "execution_count": 2,
   "metadata": {},
   "outputs": [],
   "source": [
    "from urllib.request import urlopen\n",
    "from bs4 import BeautifulSoup\n",
    "import pandas as pd\n",
    "import requests\n",
    "from time import sleep"
   ]
  },
  {
   "cell_type": "code",
   "execution_count": 3,
   "metadata": {},
   "outputs": [],
   "source": [
    "import selenium\n",
    "from selenium import webdriver\n",
    "from selenium.webdriver.common.keys import Keys"
   ]
  },
  {
   "cell_type": "code",
   "execution_count": 5,
   "metadata": {},
   "outputs": [],
   "source": [
    "d = {\"Номер сделки\":[], \"Дата и время отправки заявки в банк\":[], \"Фамилия клиента\":[], \n",
    "     \"ФИО агента\":[], \"Компания\":[], \"Офис партнера\":[], \"Статус заявки\":[], \"Дата и время решения по заявке\":[],\n",
    "     \"Мораторный отказ\":[], \"Срок отлагательного\":[], \"Дата последнего обновления статуса\":[]}\n",
    "result = []"
   ]
  },
  {
   "cell_type": "code",
   "execution_count": null,
   "metadata": {},
   "outputs": [],
   "source": [
    "start = '2020-09-01'\n",
    "stop = '2020-09-20'\n",
    "link = 'https://beta-compas.domclick.ru/admin'               # тело ссылки\n",
    "iter_link = link + '/deals/mortgage?createdAtGte=' \\\n",
    "+ start + '&createdAtLte=' + stop + '&offset='               # ссылка для итерации по страницам заявок\n",
    "iterator = 24                                                # количество значений на странице (24 шт), последние символы в ссылке на странице с фильтром по заявкам\n",
    "numerator = 0                                                # после фитра получит значение количества заявок в текущем фильтре\n",
    "#https://beta-compas.domclick.ru/admin/deals/mortgage?createdAtGte=2020-09-01&createdAtLte=2020-09-17&offset=0\n",
    "\n",
    "browser = webdriver.Chrome('chromedriver')\n",
    "browser.get(link)\n",
    "login = browser.find_element_by_id('login')\n",
    "login.send_keys('login')\n",
    "password = browser.find_element_by_name('password')\n",
    "password.send_keys('password')\n",
    "password.send_keys(Keys.ENTER)\n",
    "# html = browser.page_source\n",
    "sleep(5)\n",
    "# browser.close()\n",
    "browser.get(link + '/deals/mortgage?createdAtGte=' + start + '&createdAtLte=' \\\n",
    "            + stop + '&offset=' + str(0))\n",
    "sleep(5)\n",
    "black_count = browser.find_element_by_xpath('/html/body/div/div[4]/div/div/div/div/div/div[1]').text\n",
    "numerator = int(black_count[18:(black_count.index('В')-1)])\n",
    "# sleep(5)\n",
    "if numerator % 24:\n",
    "    count_iter = (numerator // 24) + 1\n",
    "else:\n",
    "    count_iter = numerator // 24                              # количество страниц фильтра\n",
    "\n",
    "for i in range(count_iter):\n",
    "    soup = BeautifulSoup(browser.page_source, \"html.parser\")\n",
    "    new = soup.find('tbody').findAll('tr', \n",
    "                                     class_='el-table__row')  # тело таблицы заявок\n",
    "    for j in new:\n",
    "        string = j.findAll('div', class_=\"cell\")              # всего 24 сроки и 11 значений в каждой\n",
    "        for x in range(11):#len(string)):\n",
    "            d.setdefault(list(d.keys())[x], []).append(string[x].text.strip())\n",
    "    browser.get(iter_link + str(iterator*(i+1)))\n",
    "    sleep(15)\n",
    "browser.close()"
   ]
  },
  {
   "cell_type": "code",
   "execution_count": null,
   "metadata": {},
   "outputs": [],
   "source": [
    "res = pd.DataFrame(d)\n",
    "res.head()"
   ]
  },
  {
   "cell_type": "code",
   "execution_count": 52,
   "metadata": {},
   "outputs": [
    {
     "data": {
      "text/plain": [
       "(463, 11)"
      ]
     },
     "execution_count": 52,
     "metadata": {},
     "output_type": "execute_result"
    }
   ],
   "source": [
    "res.shape"
   ]
  },
  {
   "cell_type": "code",
   "execution_count": 54,
   "metadata": {},
   "outputs": [],
   "source": [
    "res1 = res.drop_duplicates(subset=['Номер сделки'])"
   ]
  },
  {
   "cell_type": "code",
   "execution_count": 55,
   "metadata": {},
   "outputs": [
    {
     "data": {
      "text/plain": [
       "(453, 11)"
      ]
     },
     "execution_count": 55,
     "metadata": {},
     "output_type": "execute_result"
    }
   ],
   "source": [
    "res1.shape"
   ]
  },
  {
   "cell_type": "code",
   "execution_count": 56,
   "metadata": {},
   "outputs": [],
   "source": [
    "res.to_excel(\"parse_compas.xlsx\", index=False)"
   ]
  }
 ],
 "metadata": {
  "kernelspec": {
   "display_name": "Python 3",
   "language": "python",
   "name": "python3"
  },
  "language_info": {
   "codemirror_mode": {
    "name": "ipython",
    "version": 3
   },
   "file_extension": ".py",
   "mimetype": "text/x-python",
   "name": "python",
   "nbconvert_exporter": "python",
   "pygments_lexer": "ipython3",
   "version": "3.7.6"
  }
 },
 "nbformat": 4,
 "nbformat_minor": 4
}
