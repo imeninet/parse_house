{
 "cells": [
  {
   "cell_type": "code",
   "execution_count": 0,
   "metadata": {
    "colab": {},
    "colab_type": "code",
    "id": "mKO-nEevZLyr"
   },
   "outputs": [],
   "source": [
    "from urllib.request import urlopen\n",
    "from bs4 import BeautifulSoup\n",
    "import pandas as pd"
   ]
  },
  {
   "cell_type": "code",
   "execution_count": 0,
   "metadata": {
    "colab": {},
    "colab_type": "code",
    "id": "qy0CZcl_ZLyx"
   },
   "outputs": [],
   "source": [
    "import requests\n",
    "url = 'https://наш.дом.рф/сервисы/каталог-новостроек/список-объектов/список?page=0&limit=200&subject=18' \n",
    "# ссылка меняется в параметрах limit - количество строк для вывода объектов, subject - код региона (как в автономерах)\n",
    "r = requests.get(url).text\n",
    "soup1 = BeautifulSoup(r, \"html.parser\")"
   ]
  },
  {
   "cell_type": "code",
   "execution_count": 0,
   "metadata": {
    "colab": {},
    "colab_type": "code",
    "id": "Fzph1-GDZLy1"
   },
   "outputs": [],
   "source": [
    "new = soup1.find('div', class_=\"styles__Blur-gomtho-2 bufOEh\").find('div', class_=False).findAll('a', recursive=False)\n",
    "# new = soup1.find_all('a', recursive=False)\n",
    "new_news = []\n",
    "for i in range(len(new)):\n",
    "  # print(new[i])\n",
    "  if new[i].find('div', class_= 'styles__Row-cx1nz2-4 wMwPR') is not None:\n",
    "    id_house = new[i].find('div', class_= 'styles__Row-cx1nz2-4 wMwPR').text\n",
    "  if new[i].find('div', class_= 'styles__Cell-sc-7809tj-0 ibavEN BuildersTable_normal') is not None:\n",
    "    adress = new[i].find('div', {'class': 'styles__Cell-sc-7809tj-0 ibavEN BuildersTable_normal'}).text\n",
    "  if new[i].find('div', class_= 'styles__Container-b0i2cq-3 kNQIYT') is not None:\n",
    "    devel = new[i].find('div', {'class': 'styles__Container-b0i2cq-3 kNQIYT'}).find('span', {'class': 'styles__Ellipsis-sc-1fw79ul-0 cDcbYl styles__Child-b0i2cq-0 styles__Primary-b0i2cq-1 cHOchk'}).text   \n",
    "  if new[i].find('div', class_= 'styles__Container-b0i2cq-3 kNQIYT') is not None:\n",
    "    try:\n",
    "      dev_group = new[i].find('div', {'class': 'styles__Container-b0i2cq-3 kNQIYT'}).find('span', {'class': 'styles__Ellipsis-sc-1fw79ul-0 cDcbYl styles__Child-b0i2cq-0 styles__Secondary-b0i2cq-2 hAIbPk'}).text\n",
    "    except AttributeError:\n",
    "      dev_group = 'NonGroup'\n",
    "  if new[i].find('div', class_= 'styles__Cell-sc-7809tj-0 ibavEN Newbuildings_small') is not None:\n",
    "    floors = new[i].find('div', {'class': 'styles__Cell-sc-7809tj-0 ibavEN Newbuildings_small'}).text\n",
    "  #if new[i].find('div', class_= 'styles__Table-sc-17it3za-0 bPlHag') is not None:\n",
    "  link = new[i].get('href')\n",
    "#   else:\n",
    "#     link = \"0\"\n",
    "  if new[i].find('div', class_= 'styles__Status-nadbfs-0 jUTMVJ') is not None:\n",
    "    problem = 'Внимание! Проблемный!'\n",
    "  elif new[i].find('div', class_= 'styles__Status-nadbfs-0 gWWIBl') is not None:\n",
    "    problem = 'Все ОК!'\n",
    "  \n",
    "  tables = {\n",
    "    'id_house': id_house,\n",
    "    'adress': adress,\n",
    "    'developer': devel,\n",
    "    'dev_groups': dev_group,\n",
    "    'floors': floors,\n",
    "    'problem': problem,\n",
    "    'link': link    \n",
    "    }\n",
    "  new_news.append(tables)"
   ]
  },
  {
   "cell_type": "code",
   "execution_count": 0,
   "metadata": {
    "colab": {
     "base_uri": "https://localhost:8080/",
     "height": 289
    },
    "colab_type": "code",
    "executionInfo": {
     "elapsed": 1163,
     "status": "ok",
     "timestamp": 1583918956568,
     "user": {
      "displayName": "Александр ,kf",
      "photoUrl": "",
      "userId": "13563862604051466927"
     },
     "user_tz": -180
    },
    "id": "zBCxu9UlZLy9",
    "outputId": "bf964fc0-908b-4397-f445-59ac63cabf18"
   },
   "outputs": [
    {
     "data": {
      "text/html": [
       "<div>\n",
       "<style scoped>\n",
       "    .dataframe tbody tr th:only-of-type {\n",
       "        vertical-align: middle;\n",
       "    }\n",
       "\n",
       "    .dataframe tbody tr th {\n",
       "        vertical-align: top;\n",
       "    }\n",
       "\n",
       "    .dataframe thead th {\n",
       "        text-align: right;\n",
       "    }\n",
       "</style>\n",
       "<table border=\"1\" class=\"dataframe\">\n",
       "  <thead>\n",
       "    <tr style=\"text-align: right;\">\n",
       "      <th></th>\n",
       "      <th>id_house</th>\n",
       "      <th>adress</th>\n",
       "      <th>developer</th>\n",
       "      <th>dev_groups</th>\n",
       "      <th>floors</th>\n",
       "      <th>problem</th>\n",
       "      <th>link</th>\n",
       "    </tr>\n",
       "  </thead>\n",
       "  <tbody>\n",
       "    <tr>\n",
       "      <th>0</th>\n",
       "      <td>26976</td>\n",
       "      <td>г Ижевск, район Индустриальный</td>\n",
       "      <td>ООО «40 ЛЕТ ПОБЕДЫ-1...</td>\n",
       "      <td>АССО-Строй</td>\n",
       "      <td>18</td>\n",
       "      <td>Все ОК!</td>\n",
       "      <td>https://xn--80az8a.xn--d1aqf.xn--p1ai/%D1%81%D...</td>\n",
       "    </tr>\n",
       "    <tr>\n",
       "      <th>1</th>\n",
       "      <td>p-13672</td>\n",
       "      <td>Удмуртская Республика, город Ижевск, улица Авт...</td>\n",
       "      <td>ЖСК «АВТОНОМНАЯ»</td>\n",
       "      <td>NonGroup</td>\n",
       "      <td>5</td>\n",
       "      <td>Внимание! Проблемный!</td>\n",
       "      <td>https://xn--80az8a.xn--d1aqf.xn--p1ai/%D1%81%D...</td>\n",
       "    </tr>\n",
       "    <tr>\n",
       "      <th>2</th>\n",
       "      <td>p-15586</td>\n",
       "      <td>Респ Удмуртская, Завьяловский, с Первомайский,...</td>\n",
       "      <td>ООО «АКАДЕМГРАД»</td>\n",
       "      <td>NonGroup</td>\n",
       "      <td>-</td>\n",
       "      <td>Внимание! Проблемный!</td>\n",
       "      <td>https://xn--80az8a.xn--d1aqf.xn--p1ai/%D1%81%D...</td>\n",
       "    </tr>\n",
       "    <tr>\n",
       "      <th>3</th>\n",
       "      <td>33285</td>\n",
       "      <td>г Ижевск, район Устиновский, ул архитектора П....</td>\n",
       "      <td>ООО «АСПЭК-ДОМСТРОЙ»</td>\n",
       "      <td>АСПЭК-Домстрой</td>\n",
       "      <td>11</td>\n",
       "      <td>Все ОК!</td>\n",
       "      <td>https://xn--80az8a.xn--d1aqf.xn--p1ai/%D1%81%D...</td>\n",
       "    </tr>\n",
       "    <tr>\n",
       "      <th>4</th>\n",
       "      <td>29882</td>\n",
       "      <td>г Ижевск, район Устиновский, ул архитектора П....</td>\n",
       "      <td>ООО «АСПЭК-ДОМСТРОЙ»</td>\n",
       "      <td>АСПЭК-Домстрой</td>\n",
       "      <td>17</td>\n",
       "      <td>Все ОК!</td>\n",
       "      <td>https://xn--80az8a.xn--d1aqf.xn--p1ai/%D1%81%D...</td>\n",
       "    </tr>\n",
       "  </tbody>\n",
       "</table>\n",
       "</div>"
      ],
      "text/plain": [
       "  id_house  ...                                               link\n",
       "0    26976  ...  https://xn--80az8a.xn--d1aqf.xn--p1ai/%D1%81%D...\n",
       "1  p-13672  ...  https://xn--80az8a.xn--d1aqf.xn--p1ai/%D1%81%D...\n",
       "2  p-15586  ...  https://xn--80az8a.xn--d1aqf.xn--p1ai/%D1%81%D...\n",
       "3    33285  ...  https://xn--80az8a.xn--d1aqf.xn--p1ai/%D1%81%D...\n",
       "4    29882  ...  https://xn--80az8a.xn--d1aqf.xn--p1ai/%D1%81%D...\n",
       "\n",
       "[5 rows x 7 columns]"
      ]
     },
     "execution_count": 41,
     "metadata": {
      "tags": []
     },
     "output_type": "execute_result"
    }
   ],
   "source": [
    "data_df = pd.DataFrame(new_news)\n",
    "data_df.head()"
   ]
  },
  {
   "cell_type": "code",
   "execution_count": 0,
   "metadata": {
    "colab": {},
    "colab_type": "code",
    "id": "Mm1ijxq4ZLzC"
   },
   "outputs": [],
   "source": [
    "data_df.to_excel(\"parse_house_Udm.xlsx\", index=False)\n"
   ]
  },
  {
   "cell_type": "code",
   "execution_count": 0,
   "metadata": {
    "colab": {},
    "colab_type": "code",
    "id": "YT77bAIcZLzG"
   },
   "outputs": [],
   "source": [
    "from google.colab import files\n",
    "files.download('parse_house_Udm.xlsx')"
   ]
  },
  {
   "cell_type": "code",
   "execution_count": 0,
   "metadata": {
    "colab": {},
    "colab_type": "code",
    "id": "i_ArbXETt6VZ"
   },
   "outputs": [],
   "source": []
  }
 ],
 "metadata": {
  "colab": {
   "collapsed_sections": [],
   "name": "parse_house_true.ipynb",
   "provenance": []
  },
  "kernelspec": {
   "display_name": "Python 3",
   "language": "python",
   "name": "python3"
  },
  "language_info": {
   "codemirror_mode": {
    "name": "ipython",
    "version": 3
   },
   "file_extension": ".py",
   "mimetype": "text/x-python",
   "name": "python",
   "nbconvert_exporter": "python",
   "pygments_lexer": "ipython3",
   "version": "3.7.6"
  }
 },
 "nbformat": 4,
 "nbformat_minor": 1
}
