{
 "cells": [
  {
   "cell_type": "code",
   "execution_count": 1,
   "metadata": {},
   "outputs": [],
   "source": [
    "from urllib.request import urlopen\n",
    "from bs4 import BeautifulSoup\n",
    "import pandas as pd\n",
    "import requests"
   ]
  },
  {
   "cell_type": "code",
   "execution_count": 2,
   "metadata": {},
   "outputs": [],
   "source": [
    "url = 'https://наш.дом.рф/сервисы/каталог-новостроек/список-объектов/список?place=33&objStatus=0&soldOut=0&limit=100'\n",
    "# ссылка меняется в параметрах place - количество строк для вывода объектов, subject - код региона (как в автономерах)\n",
    "r = requests.get(url).text\n",
    "soup1 = BeautifulSoup(r, \"html.parser\")"
   ]
  },
  {
   "cell_type": "code",
   "execution_count": 3,
   "metadata": {},
   "outputs": [],
   "source": [
    "new = soup1.find('div', class_=\"styles__Table-sc-17it3za-0 linmnm\").find('div', class_=False).findAll('a', recursive=False)\n",
    "new_news = []"
   ]
  },
  {
   "cell_type": "code",
   "execution_count": 4,
   "metadata": {},
   "outputs": [],
   "source": [
    "for i in range(len(new)):\n",
    "    adress = new[i].find('a', {'class': 'styles__Address-j3mki0-0 jXtiZU'}).text\n",
    "    devel = new[i].find('span', {'class': 'styles__Ellipsis-sc-1fw79ul-0 cDcbYl styles__Child-b0i2cq-0 styles__Primary-b0i2cq-1 ccuZsf'}).text\n",
    "    if new[i].find('span', class_= 'styles__Ellipsis-sc-1fw79ul-0 cDcbYl styles__Child-b0i2cq-0 styles__Secondary-b0i2cq-2 hsZVtZ') is not None:\n",
    "        dev_group = new[i].find('span', {'class': 'styles__Ellipsis-sc-1fw79ul-0 cDcbYl styles__Child-b0i2cq-0 styles__Secondary-b0i2cq-2 hsZVtZ'}).text\n",
    "    link = new[i].get('href')\n",
    "    floor = new[i].find('div', {'class': 'styles__Cell-sc-7809tj-0 ibavEN Newbuindings Newbuildings_small'}).text\n",
    "    flat = new[i].findAll('div', {'class': 'styles__Cell-sc-7809tj-0 ibavEN Newbuindings Newbuildings_small'})[1].text\n",
    "    area = new[i].findAll('div', {'class': 'styles__Cell-sc-7809tj-0 ibavEN Newbuindings BuildersTable_normal'})[1].text\n",
    "    date = new[i].findAll('div', {'class': 'styles__Cell-sc-7809tj-0 ibavEN Newbuindings BuildersTable_normal'})[2].text\n",
    "  \n",
    "    tables = {\n",
    "        'adress': adress,\n",
    "        'developer': devel,\n",
    "        'dev_groups': dev_group,\n",
    "        'floors': floor,\n",
    "        'flats': flat,\n",
    "        'all area': area,\n",
    "        'commissioning date': date,\n",
    "        'link': link    \n",
    "        }\n",
    "    new_news.append(tables)"
   ]
  },
  {
   "cell_type": "code",
   "execution_count": 5,
   "metadata": {},
   "outputs": [
    {
     "data": {
      "text/html": [
       "<div>\n",
       "<style scoped>\n",
       "    .dataframe tbody tr th:only-of-type {\n",
       "        vertical-align: middle;\n",
       "    }\n",
       "\n",
       "    .dataframe tbody tr th {\n",
       "        vertical-align: top;\n",
       "    }\n",
       "\n",
       "    .dataframe thead th {\n",
       "        text-align: right;\n",
       "    }\n",
       "</style>\n",
       "<table border=\"1\" class=\"dataframe\">\n",
       "  <thead>\n",
       "    <tr style=\"text-align: right;\">\n",
       "      <th></th>\n",
       "      <th>adress</th>\n",
       "      <th>developer</th>\n",
       "      <th>dev_groups</th>\n",
       "      <th>floors</th>\n",
       "      <th>flats</th>\n",
       "      <th>all area</th>\n",
       "      <th>commissioning date</th>\n",
       "      <th>link</th>\n",
       "    </tr>\n",
       "  </thead>\n",
       "  <tbody>\n",
       "    <tr>\n",
       "      <th>0</th>\n",
       "      <td>г Покров, Улица III Интернационала, д. 3</td>\n",
       "      <td>ООО АС-ИНВЕСТ</td>\n",
       "      <td>АС-Инвест</td>\n",
       "      <td>3</td>\n",
       "      <td>33</td>\n",
       "      <td>1 646</td>\n",
       "      <td>II кв. 2021</td>\n",
       "      <td>https://xn--80az8a.xn--d1aqf.xn--p1ai/%D1%81%D...</td>\n",
       "    </tr>\n",
       "    <tr>\n",
       "      <th>1</th>\n",
       "      <td>Владимир, район Ленинский, сад Медработник</td>\n",
       "      <td>Фонд ВГИФ</td>\n",
       "      <td>ВГИФ</td>\n",
       "      <td>14</td>\n",
       "      <td>411</td>\n",
       "      <td>20 593</td>\n",
       "      <td>IV кв. 2022</td>\n",
       "      <td>https://xn--80az8a.xn--d1aqf.xn--p1ai/%D1%81%D...</td>\n",
       "    </tr>\n",
       "    <tr>\n",
       "      <th>2</th>\n",
       "      <td>Владимир, улица Горького, д. 87</td>\n",
       "      <td>ООО ВЕРЕСК</td>\n",
       "      <td>Монострой</td>\n",
       "      <td>18</td>\n",
       "      <td>238</td>\n",
       "      <td>16 762</td>\n",
       "      <td>IV кв. 2022</td>\n",
       "      <td>https://xn--80az8a.xn--d1aqf.xn--p1ai/%D1%81%D...</td>\n",
       "    </tr>\n",
       "    <tr>\n",
       "      <th>3</th>\n",
       "      <td>Владимир, улица Горького, д. 87</td>\n",
       "      <td>ООО ВЕРЕСК</td>\n",
       "      <td>Монострой</td>\n",
       "      <td>18</td>\n",
       "      <td>208</td>\n",
       "      <td>13 915</td>\n",
       "      <td>IV кв. 2022</td>\n",
       "      <td>https://xn--80az8a.xn--d1aqf.xn--p1ai/%D1%81%D...</td>\n",
       "    </tr>\n",
       "    <tr>\n",
       "      <th>4</th>\n",
       "      <td>г Владимир, улица Чайковского, д. 8</td>\n",
       "      <td>ООО ГИМ ГРУПП</td>\n",
       "      <td>ГИМ ГРУПП</td>\n",
       "      <td>12</td>\n",
       "      <td>135</td>\n",
       "      <td>10 346</td>\n",
       "      <td>IV кв. 2021</td>\n",
       "      <td>https://xn--80az8a.xn--d1aqf.xn--p1ai/%D1%81%D...</td>\n",
       "    </tr>\n",
       "  </tbody>\n",
       "</table>\n",
       "</div>"
      ],
      "text/plain": [
       "                                       adress      developer dev_groups  \\\n",
       "0    г Покров, Улица III Интернационала, д. 3  ООО АС-ИНВЕСТ  АС-Инвест   \n",
       "1  Владимир, район Ленинский, сад Медработник      Фонд ВГИФ       ВГИФ   \n",
       "2             Владимир, улица Горького, д. 87     ООО ВЕРЕСК  Монострой   \n",
       "3             Владимир, улица Горького, д. 87     ООО ВЕРЕСК  Монострой   \n",
       "4         г Владимир, улица Чайковского, д. 8  ООО ГИМ ГРУПП  ГИМ ГРУПП   \n",
       "\n",
       "  floors flats all area commissioning date  \\\n",
       "0      3    33    1 646        II кв. 2021   \n",
       "1     14   411   20 593        IV кв. 2022   \n",
       "2     18   238   16 762        IV кв. 2022   \n",
       "3     18   208   13 915        IV кв. 2022   \n",
       "4     12   135   10 346        IV кв. 2021   \n",
       "\n",
       "                                                link  \n",
       "0  https://xn--80az8a.xn--d1aqf.xn--p1ai/%D1%81%D...  \n",
       "1  https://xn--80az8a.xn--d1aqf.xn--p1ai/%D1%81%D...  \n",
       "2  https://xn--80az8a.xn--d1aqf.xn--p1ai/%D1%81%D...  \n",
       "3  https://xn--80az8a.xn--d1aqf.xn--p1ai/%D1%81%D...  \n",
       "4  https://xn--80az8a.xn--d1aqf.xn--p1ai/%D1%81%D...  "
      ]
     },
     "execution_count": 5,
     "metadata": {},
     "output_type": "execute_result"
    }
   ],
   "source": [
    "data_df = pd.DataFrame(new_news)\n",
    "data_df.head()"
   ]
  },
  {
   "cell_type": "code",
   "execution_count": null,
   "metadata": {},
   "outputs": [],
   "source": [
    "data_df.to_excel(\"parse_house_Vladimir.xlsx\", index=False)"
   ]
  }
 ],
 "metadata": {
  "kernelspec": {
   "display_name": "Python 3",
   "language": "python",
   "name": "python3"
  },
  "language_info": {
   "codemirror_mode": {
    "name": "ipython",
    "version": 3
   },
   "file_extension": ".py",
   "mimetype": "text/x-python",
   "name": "python",
   "nbconvert_exporter": "python",
   "pygments_lexer": "ipython3",
   "version": "3.7.6"
  }
 },
 "nbformat": 4,
 "nbformat_minor": 4
}
